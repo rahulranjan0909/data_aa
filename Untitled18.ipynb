{
 "cells": [
  {
   "cell_type": "code",
   "execution_count": null,
   "id": "4cc6ac04",
   "metadata": {},
   "outputs": [],
   "source": [
    "import os\n",
    "import pandas as pd\n",
    "\n",
    "# Path to the folder containing Excel files\n",
    "folder_path = 'your_folder_path'\n",
    "\n",
    "# List all Excel files in the folder\n",
    "excel_files = [file for file in os.listdir(folder_path) if file.endswith('.xlsx')]\n",
    "\n",
    "# Read and concatenate Excel files into one DataFrame\n",
    "dfs = []\n",
    "for file in excel_files:\n",
    "    df = pd.read_excel(os.path.join(folder_path, file))\n",
    "    \n",
    "    # Standardize date column format\n",
    "    if 'date_column_name' in df.columns:\n",
    "        df['date_column_name'] = pd.to_datetime(df['date_column_name'], errors='coerce')\n",
    "        df = df.dropna(subset=['date_column_name'])  # Drop rows with invalid dates\n",
    "        \n",
    "    dfs.append(df)\n",
    "\n",
    "# Concatenate all DataFrames\n",
    "combined_df = pd.concat(dfs)\n",
    "\n",
    "# Reset index to ensure it's unique\n",
    "combined_df.reset_index(drop=True, inplace=True)\n",
    "\n",
    "# Set date column as index\n",
    "combined_df.set_index('date_column_name', inplace=True)\n",
    "\n",
    "# Forward fill missing data\n",
    "combined_df = combined_df.ffill()\n",
    "\n",
    "# Write the combined DataFrame to a new Excel file\n",
    "combined_df.to_excel('combined_data.xlsx')\n"
   ]
  }
 ],
 "metadata": {
  "kernelspec": {
   "display_name": "Python 3 (ipykernel)",
   "language": "python",
   "name": "python3"
  },
  "language_info": {
   "codemirror_mode": {
    "name": "ipython",
    "version": 3
   },
   "file_extension": ".py",
   "mimetype": "text/x-python",
   "name": "python",
   "nbconvert_exporter": "python",
   "pygments_lexer": "ipython3",
   "version": "3.10.9"
  }
 },
 "nbformat": 4,
 "nbformat_minor": 5
}
